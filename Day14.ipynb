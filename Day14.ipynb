{
 "cells": [
  {
   "cell_type": "markdown",
   "id": "64aa85b3",
   "metadata": {},
   "source": [
    "### Creating empty cave"
   ]
  },
  {
   "cell_type": "code",
   "execution_count": 108,
   "id": "2bc3297f",
   "metadata": {},
   "outputs": [
    {
     "data": {
      "text/plain": [
       "(array([[0., 0., 0., ..., 0., 0., 0.],\n",
       "        [0., 0., 0., ..., 0., 0., 0.],\n",
       "        [0., 0., 0., ..., 0., 0., 0.],\n",
       "        ...,\n",
       "        [0., 0., 0., ..., 0., 0., 0.],\n",
       "        [0., 0., 0., ..., 0., 0., 0.],\n",
       "        [0., 0., 0., ..., 0., 0., 0.]]),\n",
       " (166, 538))"
      ]
     },
     "execution_count": 108,
     "metadata": {},
     "output_type": "execute_result"
    }
   ],
   "source": [
    "max_xs = []\n",
    "max_ys = []\n",
    "for line in open(\"Day14_input.txt\"):\n",
    "    x = [point.split(\",\")[0] for point in line.strip(\"\\n\").split(\" -> \")]\n",
    "    y = [point.split(\",\")[1] for point in line.strip(\"\\n\").split(\" -> \")]\n",
    "    max_x, max_y = int(max(x)), int(max(y))\n",
    "    max_xs.append(max_x)\n",
    "    max_ys.append(max_y)\n",
    "\n",
    "import numpy as np\n",
    "\n",
    "cave = np.zeros(shape = (max(max_ys)+1, max(max_xs)+1))\n",
    "cave, cave.shape"
   ]
  },
  {
   "cell_type": "markdown",
   "id": "45aa0446",
   "metadata": {},
   "source": [
    "### Creating rocks"
   ]
  },
  {
   "cell_type": "code",
   "execution_count": 109,
   "id": "d0fe7756",
   "metadata": {},
   "outputs": [],
   "source": [
    "def get_edge(vertex1, vertex2):\n",
    "    if vertex1[0] == vertex2[0]:\n",
    "        start, end = min(vertex1[1], vertex2[1]) + 1, max(vertex1[1], vertex2[1])\n",
    "        return [(vertex1[0], X) for X in range(start, end)]\n",
    "    elif vertex1[1] == vertex2[1]:\n",
    "        start, end = min(vertex1[0], vertex2[0]) + 1, max(vertex1[0], vertex2[0])\n",
    "        return [(Y, vertex1[1]) for Y in range(start, end)]\n",
    "    else:\n",
    "        print(\"I only get orthogonal edges\")\n",
    "\n",
    "for line in open(\"Day14_input.txt\"):\n",
    "    vertices = [tuple([int(coord) for coord in point.split(\",\")]) for point in line.strip(\"\\n\").split(\" -> \")]\n",
    "    \n",
    "    points = vertices\n",
    "    for vertex1, vertex2 in zip(vertices, vertices[1:]):\n",
    "        points += get_edge(vertex1, vertex2)\n",
    "\n",
    "    for point in points:\n",
    "        cave[point[1], point[0]] = 1"
   ]
  },
  {
   "cell_type": "markdown",
   "id": "2f81c357",
   "metadata": {},
   "source": [
    "### Dripping sand"
   ]
  },
  {
   "cell_type": "code",
   "execution_count": 110,
   "id": "c7173b02",
   "metadata": {},
   "outputs": [],
   "source": [
    "sand_source = (500, 0)\n",
    "cave[sand_source[1], sand_source[0]] = 9\n",
    "\n",
    "def move_grain(x, y):\n",
    "    \n",
    "    if y == cave.shape[0]-1:\n",
    "        return \"Bottom\"\n",
    "        \n",
    "    elif cave[y+1, x] == 0:\n",
    "        cave[y+1, x] = 2\n",
    "        cave[y, x] = 0\n",
    "        return(x, y+1)\n",
    "    \n",
    "    elif cave[y+1, x-1] == 0:\n",
    "        cave[y+1, x-1] = 2\n",
    "        cave[y, x] = 0\n",
    "        return(x-1, y+1)\n",
    "    \n",
    "    elif cave[y+1, x+1] == 0:\n",
    "        cave[y+1, x+1] = 2\n",
    "        cave[y, x] = 0\n",
    "        return(x+1, y+1)\n",
    "    else:\n",
    "        return \"Stop\"  \n",
    "    \n",
    "def drop_grain():\n",
    "    grain_position = (sand_source[0], sand_source[1] + 1)\n",
    "    while True:\n",
    "        grain_position = move_grain(grain_position[0], grain_position[1])\n",
    "        \n",
    "        if grain_position == \"Bottom\":\n",
    "            print(\"Reached bottom\")\n",
    "            return 1\n",
    "        \n",
    "        if grain_position == \"Stop\":\n",
    "            break"
   ]
  },
  {
   "cell_type": "code",
   "execution_count": 111,
   "id": "f650c9c2",
   "metadata": {},
   "outputs": [
    {
     "name": "stdout",
     "output_type": "stream",
     "text": [
      "Reached bottom\n",
      "655\n"
     ]
    }
   ],
   "source": [
    "i = 0\n",
    "while True:\n",
    "    _ = drop_grain()\n",
    "    if _:\n",
    "        print(i)\n",
    "        break\n",
    "    i +=1"
   ]
  },
  {
   "cell_type": "markdown",
   "id": "20b0bdbd",
   "metadata": {},
   "source": [
    "### Part 2"
   ]
  },
  {
   "cell_type": "code",
   "execution_count": 126,
   "id": "06561a70",
   "metadata": {},
   "outputs": [
    {
     "data": {
      "text/plain": [
       "array([[0., 0., 0., ..., 0., 0., 0.],\n",
       "       [0., 0., 0., ..., 0., 0., 0.],\n",
       "       [0., 0., 0., ..., 0., 0., 0.],\n",
       "       ...,\n",
       "       [0., 0., 0., ..., 0., 0., 0.],\n",
       "       [0., 0., 0., ..., 0., 0., 0.],\n",
       "       [1., 1., 1., ..., 1., 1., 1.]])"
      ]
     },
     "execution_count": 126,
     "metadata": {},
     "output_type": "execute_result"
    }
   ],
   "source": [
    "max_ys = []\n",
    "for line in open(\"Day14_input.txt\"):\n",
    "    y = [point.split(\",\")[1] for point in line.strip(\"\\n\").split(\" -> \")]\n",
    "    max_y = int(max(y))\n",
    "    max_ys.append(max_y)\n",
    "\n",
    "import numpy as np\n",
    "\n",
    "width = 1000000 #hack, but it works, I don't want to dynamically create a new cave for each iteration\n",
    "cave = np.zeros(shape = (max(max_ys)+3, 2*width))\n",
    "                \n",
    "def get_edge(vertex1, vertex2):\n",
    "    if vertex1[0] == vertex2[0]:\n",
    "        start, end = min(vertex1[1], vertex2[1]) + 1, max(vertex1[1], vertex2[1])\n",
    "        return [(vertex1[0], X) for X in range(start, end)]\n",
    "    elif vertex1[1] == vertex2[1]:\n",
    "        start, end = min(vertex1[0], vertex2[0]) + 1, max(vertex1[0], vertex2[0])\n",
    "        return [(Y, vertex1[1]) for Y in range(start, end)]\n",
    "    else:\n",
    "        print(\"I only get orthogonal edges\")\n",
    "\n",
    "for line in open(\"Day14_input.txt\"):\n",
    "    vertices = [tuple([int(coord) for coord in point.split(\",\")]) for point in line.strip(\"\\n\").split(\" -> \")]\n",
    "    vertices = [(coord[0] + width, coord[1]) for coord in vertices] #moving all rocks to center\n",
    "    points = vertices\n",
    "    for vertex1, vertex2 in zip(vertices, vertices[1:]):\n",
    "        points += get_edge(vertex1, vertex2)\n",
    "\n",
    "    for point in points:\n",
    "        cave[point[1], point[0]] = 1\n",
    "\n",
    "bottom = get_edge((-1, max(max_ys)+2), (2*width, max(max_ys)+2))\n",
    "for point in bottom:\n",
    "            cave[point[1], point[0]] = 1\n",
    "cave"
   ]
  },
  {
   "cell_type": "code",
   "execution_count": 127,
   "id": "872cd202",
   "metadata": {},
   "outputs": [
    {
     "name": "stdout",
     "output_type": "stream",
     "text": [
      "Filled out\n",
      "26484\n"
     ]
    }
   ],
   "source": [
    "sand_source = (500+width, 0)\n",
    "cave[sand_source[1], sand_source[0]] = 2 #changed to easily change move_grain\n",
    "\n",
    "def move_grain(x, y):\n",
    "    \n",
    "    if (x, y) == (sand_source[0], sand_source[1]) \\\n",
    "    and cave[sand_source[1]+1, sand_source[0]] == 2 \\\n",
    "    and cave[sand_source[1]+1, sand_source[0]-1] == 2 \\\n",
    "    and cave[sand_source[1]+1, sand_source[0]+1] == 2:\n",
    "        return \"Filled out\"\n",
    "        \n",
    "    elif cave[y+1, x] == 0:\n",
    "        cave[y+1, x] = 2\n",
    "        cave[y, x] = 0\n",
    "        return(x, y+1)\n",
    "    \n",
    "    elif cave[y+1, x-1] == 0:\n",
    "        cave[y+1, x-1] = 2\n",
    "        cave[y, x] = 0\n",
    "        return(x-1, y+1)\n",
    "    \n",
    "    elif cave[y+1, x+1] == 0:\n",
    "        cave[y+1, x+1] = 2\n",
    "        cave[y, x] = 0\n",
    "        return(x+1, y+1)\n",
    "    \n",
    "    else:\n",
    "        return \"Stop\"  \n",
    "    \n",
    "def drop_grain():\n",
    "    grain_position = (sand_source[0], sand_source[1])\n",
    "    while True:\n",
    "        grain_position = move_grain(grain_position[0], grain_position[1])\n",
    "        \n",
    "        if grain_position == \"Filled out\":\n",
    "            print(\"Filled out\")\n",
    "            return 1\n",
    "        \n",
    "        if grain_position == \"Stop\":\n",
    "            break\n",
    "            \n",
    "i = 0\n",
    "while True:\n",
    "    _ = drop_grain()\n",
    "    if _:\n",
    "        print(i+1)\n",
    "        break\n",
    "    i +=1"
   ]
  },
  {
   "cell_type": "markdown",
   "id": "21fcb8d7",
   "metadata": {},
   "source": [
    "# Tests"
   ]
  },
  {
   "cell_type": "code",
   "execution_count": 120,
   "id": "851cce94",
   "metadata": {},
   "outputs": [
    {
     "data": {
      "text/plain": [
       "array([[0., 0., 0., 0., 0., 0., 0., 0., 0., 0., 0.],\n",
       "       [0., 0., 0., 0., 0., 0., 0., 0., 0., 0., 0.],\n",
       "       [0., 0., 0., 0., 0., 0., 0., 0., 0., 0., 0.],\n",
       "       [0., 0., 0., 0., 0., 0., 0., 0., 0., 0., 0.],\n",
       "       [0., 0., 0., 0., 0., 1., 0., 0., 0., 1., 1.],\n",
       "       [0., 0., 0., 0., 0., 1., 0., 0., 0., 1., 0.],\n",
       "       [0., 0., 0., 1., 1., 1., 0., 0., 0., 1., 0.],\n",
       "       [0., 0., 0., 0., 0., 0., 0., 0., 0., 1., 0.],\n",
       "       [0., 0., 0., 0., 0., 0., 0., 0., 0., 1., 0.],\n",
       "       [0., 1., 1., 1., 1., 1., 1., 1., 1., 1., 0.]])"
      ]
     },
     "execution_count": 120,
     "metadata": {},
     "output_type": "execute_result"
    }
   ],
   "source": [
    "max_xs = []\n",
    "max_ys = []\n",
    "for line in open(\"Day14_test.txt\"):\n",
    "    x = [point.split(\",\")[0] for point in line.strip(\"\\n\").split(\" -> \")]\n",
    "    y = [point.split(\",\")[1] for point in line.strip(\"\\n\").split(\" -> \")]\n",
    "    max_x, max_y = int(max(x)), int(max(y))\n",
    "    max_xs.append(max_x)\n",
    "    max_ys.append(max_y)\n",
    "\n",
    "import numpy as np\n",
    "\n",
    "cave = np.zeros(shape = (max(max_ys)+1, max(max_xs)+1))\n",
    "\n",
    "def get_edge(vertex1, vertex2):\n",
    "    if vertex1[0] == vertex2[0]:\n",
    "        start, end = min(vertex1[1], vertex2[1]) + 1, max(vertex1[1], vertex2[1])\n",
    "        return [(vertex1[0], Y) for Y in range(start, end)]\n",
    "    elif vertex1[1] == vertex2[1]:\n",
    "        start, end = min(vertex1[0], vertex2[0]) + 1, max(vertex1[0], vertex2[0])\n",
    "        return [(X, vertex1[1]) for X in range(start, end)]\n",
    "    else:\n",
    "        print(\"I only get orthogonal edges\")\n",
    "\n",
    "for line in open(\"Day14_test.txt\"):\n",
    "    vertices = [tuple([int(coord) for coord in point.split(\",\")]) for point in line.strip(\"\\n\").split(\" -> \")]\n",
    "    \n",
    "    points = vertices\n",
    "    for vertex1, vertex2 in zip(vertices, vertices[1:]):\n",
    "        points += get_edge(vertex1, vertex2)\n",
    "        \n",
    "    for point in points:\n",
    "        cave[point[1], point[0]] = 1\n",
    "cave[:,493:]"
   ]
  },
  {
   "cell_type": "code",
   "execution_count": 62,
   "id": "0e3c68f1",
   "metadata": {
    "scrolled": false
   },
   "outputs": [
    {
     "name": "stdout",
     "output_type": "stream",
     "text": [
      "Reached bottom\n",
      "24\n"
     ]
    },
    {
     "data": {
      "text/plain": [
       "array([[0., 0., 0., 0., 0., 0., 0., 9., 0., 0., 0.],\n",
       "       [0., 0., 0., 0., 0., 0., 0., 0., 0., 0., 0.],\n",
       "       [0., 0., 0., 0., 0., 0., 0., 2., 0., 0., 0.],\n",
       "       [0., 0., 0., 0., 0., 0., 2., 2., 2., 0., 0.],\n",
       "       [0., 0., 0., 0., 0., 1., 2., 2., 2., 1., 1.],\n",
       "       [0., 0., 0., 0., 2., 1., 2., 2., 2., 1., 0.],\n",
       "       [0., 0., 0., 1., 1., 1., 2., 2., 2., 1., 0.],\n",
       "       [0., 0., 0., 0., 0., 2., 2., 2., 2., 1., 0.],\n",
       "       [0., 0., 2., 0., 2., 2., 2., 2., 2., 1., 0.],\n",
       "       [2., 1., 1., 1., 1., 1., 1., 1., 1., 1., 0.]])"
      ]
     },
     "execution_count": 62,
     "metadata": {},
     "output_type": "execute_result"
    }
   ],
   "source": [
    "sand_source = (500, 0)\n",
    "cave[sand_source[1], sand_source[0]] = 9\n",
    "\n",
    "def move_grain(x, y):\n",
    "    \n",
    "    if y == cave.shape[0]-1:\n",
    "        return \"Bottom\"\n",
    "        \n",
    "    elif cave[y+1, x] == 0:\n",
    "        cave[y+1, x] = 2\n",
    "        cave[y, x] = 0\n",
    "        return(x, y+1)\n",
    "    \n",
    "    elif cave[y+1, x-1] == 0:\n",
    "        cave[y+1, x-1] = 2\n",
    "        cave[y, x] = 0\n",
    "        return(x-1, y+1)\n",
    "    \n",
    "    elif cave[y+1, x+1] == 0:\n",
    "        cave[y+1, x+1] = 2\n",
    "        cave[y, x] = 0\n",
    "        return(x+1, y+1)\n",
    "    else:\n",
    "        return \"Stop\"  \n",
    "    \n",
    "def drop_grain():\n",
    "    grain_position = (sand_source[0], sand_source[1] + 1)\n",
    "    while True:\n",
    "        grain_position = move_grain(grain_position[0], grain_position[1])\n",
    "        \n",
    "        if grain_position == \"Bottom\":\n",
    "            print(\"Reached bottom\")\n",
    "            return 1\n",
    "        \n",
    "        if grain_position == \"Stop\":\n",
    "            break\n",
    "\n",
    "i = 0\n",
    "while True:\n",
    "    _ = drop_grain()\n",
    "    if _:\n",
    "        print(i)\n",
    "        break\n",
    "    i +=1\n",
    "cave[:,493:]"
   ]
  },
  {
   "cell_type": "markdown",
   "id": "c115eb82",
   "metadata": {},
   "source": [
    "## Test Part2"
   ]
  },
  {
   "cell_type": "code",
   "execution_count": 105,
   "id": "1c27130c",
   "metadata": {},
   "outputs": [
    {
     "name": "stdout",
     "output_type": "stream",
     "text": [
      "Filled out\n",
      "93\n"
     ]
    },
    {
     "data": {
      "text/plain": [
       "array([[0., 0., 0., 0., 0., 0., 0., 0., 0., 0., 0., 0., 0., 0., 0., 0.],\n",
       "       [0., 0., 0., 0., 0., 0., 0., 0., 2., 2., 2., 0., 0., 0., 0., 0.],\n",
       "       [0., 0., 0., 0., 0., 0., 0., 2., 2., 2., 2., 2., 0., 0., 0., 0.],\n",
       "       [0., 0., 0., 0., 0., 0., 2., 2., 2., 2., 2., 2., 2., 0., 0., 0.],\n",
       "       [0., 0., 0., 0., 0., 2., 2., 1., 2., 2., 2., 1., 1., 2., 0., 0.],\n",
       "       [0., 0., 0., 0., 2., 2., 2., 1., 2., 2., 2., 1., 2., 2., 2., 0.],\n",
       "       [0., 0., 0., 2., 2., 1., 1., 1., 2., 2., 2., 1., 2., 2., 2., 2.],\n",
       "       [0., 0., 2., 2., 2., 2., 0., 2., 2., 2., 2., 1., 2., 2., 2., 2.],\n",
       "       [0., 2., 2., 2., 2., 2., 2., 2., 2., 2., 2., 1., 2., 2., 2., 2.],\n",
       "       [2., 2., 2., 1., 1., 1., 1., 1., 1., 1., 1., 1., 2., 2., 2., 2.],\n",
       "       [2., 2., 2., 2., 0., 0., 0., 0., 0., 0., 0., 2., 2., 2., 2., 2.],\n",
       "       [1., 1., 1., 1., 1., 1., 1., 1., 1., 1., 1., 1., 1., 1., 1., 1.]])"
      ]
     },
     "execution_count": 105,
     "metadata": {},
     "output_type": "execute_result"
    }
   ],
   "source": [
    "max_ys = []\n",
    "for line in open(\"Day14_test.txt\"):\n",
    "    y = [point.split(\",\")[1] for point in line.strip(\"\\n\").split(\" -> \")]\n",
    "    max_y = int(max(y))\n",
    "    max_ys.append(max_y)\n",
    "\n",
    "import numpy as np\n",
    "\n",
    "width = 1000000 #hack, but it works, I don't want to dynamically create a new cave for each iteration\n",
    "cave = np.zeros(shape = (max(max_ys)+3, 2*width))\n",
    "                \n",
    "def get_edge(vertex1, vertex2):\n",
    "    if vertex1[0] == vertex2[0]:\n",
    "        start, end = min(vertex1[1], vertex2[1]) + 1, max(vertex1[1], vertex2[1])\n",
    "        return [(vertex1[0], X) for X in range(start, end)]\n",
    "    elif vertex1[1] == vertex2[1]:\n",
    "        start, end = min(vertex1[0], vertex2[0]) + 1, max(vertex1[0], vertex2[0])\n",
    "        return [(Y, vertex1[1]) for Y in range(start, end)]\n",
    "    else:\n",
    "        print(\"I only get orthogonal edges\")\n",
    "\n",
    "for line in open(\"Day14_test.txt\"):\n",
    "    vertices = [tuple([int(coord) for coord in point.split(\",\")]) for point in line.strip(\"\\n\").split(\" -> \")]\n",
    "    vertices = [(coord[0] + width, coord[1]) for coord in vertices] #moving all rocks to center\n",
    "    points = vertices\n",
    "    for vertex1, vertex2 in zip(vertices, vertices[1:]):\n",
    "        points += get_edge(vertex1, vertex2)\n",
    "\n",
    "    for point in points:\n",
    "        cave[point[1], point[0]] = 1\n",
    "\n",
    "bottom = get_edge((-1, max(max_ys)+2), (2*width, max(max_ys)+2))\n",
    "for point in bottom:\n",
    "            cave[point[1], point[0]] = 1\n",
    "        \n",
    "        \n",
    "sand_source = (500+width, 0)\n",
    "cave[sand_source[1], sand_source[0]] = 2 #changed to easily change move_grain\n",
    "\n",
    "def move_grain(x, y):\n",
    "    \n",
    "    if (x, y) == (sand_source[0], sand_source[1]) \\\n",
    "    and cave[sand_source[1]+1, sand_source[0]] == 2 \\\n",
    "    and cave[sand_source[1]+1, sand_source[0]-1] == 2 \\\n",
    "    and cave[sand_source[1]+1, sand_source[0]+1] == 2:\n",
    "        return \"Filled out\"\n",
    "        \n",
    "    elif cave[y+1, x] == 0:\n",
    "        cave[y+1, x] = 2\n",
    "        cave[y, x] = 0\n",
    "        return(x, y+1)\n",
    "    \n",
    "    elif cave[y+1, x-1] == 0:\n",
    "        cave[y+1, x-1] = 2\n",
    "        cave[y, x] = 0\n",
    "        return(x-1, y+1)\n",
    "    \n",
    "    elif cave[y+1, x+1] == 0:\n",
    "        cave[y+1, x+1] = 2\n",
    "        cave[y, x] = 0\n",
    "        return(x+1, y+1)\n",
    "    \n",
    "    else:\n",
    "        return \"Stop\"  \n",
    "    \n",
    "def drop_grain():\n",
    "    grain_position = (sand_source[0], sand_source[1])\n",
    "    while True:\n",
    "        grain_position = move_grain(grain_position[0], grain_position[1])\n",
    "        \n",
    "        if grain_position == \"Filled out\":\n",
    "            print(\"Filled out\")\n",
    "            return 1\n",
    "        \n",
    "        if grain_position == \"Stop\":\n",
    "            break\n",
    "            \n",
    "i = 0\n",
    "while i in range(100):\n",
    "    _ = drop_grain()\n",
    "    if _:\n",
    "        print(i+1)\n",
    "        break\n",
    "    i +=1\n",
    "\n",
    "\n",
    "cave[:,493+width-2:493+12+width+2]"
   ]
  },
  {
   "cell_type": "code",
   "execution_count": null,
   "id": "0dcd8cac",
   "metadata": {},
   "outputs": [],
   "source": []
  }
 ],
 "metadata": {
  "kernelspec": {
   "display_name": "Python 3",
   "language": "python",
   "name": "python3"
  },
  "language_info": {
   "codemirror_mode": {
    "name": "ipython",
    "version": 3
   },
   "file_extension": ".py",
   "mimetype": "text/x-python",
   "name": "python",
   "nbconvert_exporter": "python",
   "pygments_lexer": "ipython3",
   "version": "3.8.8"
  }
 },
 "nbformat": 4,
 "nbformat_minor": 5
}
