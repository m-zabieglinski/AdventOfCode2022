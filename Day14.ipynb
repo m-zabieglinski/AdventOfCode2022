{
 "cells": [
  {
   "cell_type": "markdown",
   "id": "64aa85b3",
   "metadata": {},
   "source": [
    "### Creating empty cave"
   ]
  },
  {
   "cell_type": "code",
   "execution_count": 91,
   "id": "2bc3297f",
   "metadata": {},
   "outputs": [
    {
     "data": {
      "text/plain": [
       "(array([[0., 0., 0., ..., 0., 0., 0.],\n",
       "        [0., 0., 0., ..., 0., 0., 0.],\n",
       "        [0., 0., 0., ..., 0., 0., 0.],\n",
       "        ...,\n",
       "        [0., 0., 0., ..., 0., 0., 0.],\n",
       "        [0., 0., 0., ..., 0., 0., 0.],\n",
       "        [0., 0., 0., ..., 0., 0., 0.]]),\n",
       " (166, 538))"
      ]
     },
     "execution_count": 91,
     "metadata": {},
     "output_type": "execute_result"
    }
   ],
   "source": [
    "max_xs = []\n",
    "max_ys = []\n",
    "for line in open(\"Day14_input.txt\"):\n",
    "    x = [point.split(\",\")[0] for point in line.strip(\"\\n\").split(\" -> \")]\n",
    "    y = [point.split(\",\")[1] for point in line.strip(\"\\n\").split(\" -> \")]\n",
    "    max_x, max_y = int(max(x)), int(max(y))\n",
    "    max_xs.append(max_x)\n",
    "    max_ys.append(max_y)\n",
    "\n",
    "import numpy as np\n",
    "\n",
    "cave = np.zeros(shape = (max(max_ys)+1, max(max_xs)+1))\n",
    "cave, cave.shape"
   ]
  },
  {
   "cell_type": "markdown",
   "id": "45aa0446",
   "metadata": {},
   "source": [
    "### Creating rocks"
   ]
  },
  {
   "cell_type": "code",
   "execution_count": 92,
   "id": "d0fe7756",
   "metadata": {},
   "outputs": [],
   "source": [
    "def get_edge(vertex1, vertex2):\n",
    "    if vertex1[0] == vertex2[0]:\n",
    "        start, end = min(vertex1[1], vertex2[1]) + 1, max(vertex1[1], vertex2[1])\n",
    "        return [(vertex1[0], X) for X in range(start, end)]\n",
    "    elif vertex1[1] == vertex2[1]:\n",
    "        start, end = min(vertex1[0], vertex2[0]) + 1, max(vertex1[0], vertex2[0])\n",
    "        return [(Y, vertex1[1]) for Y in range(start, end)]\n",
    "    else:\n",
    "        print(\"I only get orthogonal edges\")\n",
    "\n",
    "for line in open(\"Day14_input.txt\"):\n",
    "    vertices = [tuple([int(coord) for coord in point.split(\",\")]) for point in line.strip(\"\\n\").split(\" -> \")]\n",
    "    \n",
    "    points = vertices\n",
    "    for vertex1, vertex2 in zip(vertices, vertices[1:]):\n",
    "        points += get_edge(vertex1, vertex2)\n",
    "\n",
    "    for point in points:\n",
    "        cave[point[1], point[0]] = 1"
   ]
  },
  {
   "cell_type": "markdown",
   "id": "2f81c357",
   "metadata": {},
   "source": [
    "### Dripping sand"
   ]
  },
  {
   "cell_type": "code",
   "execution_count": 93,
   "id": "c7173b02",
   "metadata": {},
   "outputs": [],
   "source": [
    "sand_source = (500, 0)\n",
    "cave[sand_source[1], sand_source[0]] = 9\n",
    "\n",
    "def move_grain(x, y):\n",
    "    \n",
    "    if y == cave.shape[0]-1:\n",
    "        return \"Bottom\"\n",
    "        \n",
    "    elif cave[y+1, x] == 0:\n",
    "        cave[y+1, x] = 2\n",
    "        cave[y, x] = 0\n",
    "        return(x, y+1)\n",
    "    \n",
    "    elif cave[y+1, x-1] == 0:\n",
    "        cave[y+1, x-1] = 2\n",
    "        cave[y, x] = 0\n",
    "        return(x-1, y+1)\n",
    "    \n",
    "    elif cave[y+1, x+1] == 0:\n",
    "        cave[y+1, x+1] = 2\n",
    "        cave[y, x] = 0\n",
    "        return(x+1, y+1)\n",
    "    else:\n",
    "        return \"Stop\"  \n",
    "    \n",
    "def drop_grain():\n",
    "    grain_position = (sand_source[0], sand_source[1] + 1)\n",
    "    while True:\n",
    "        grain_position = move_grain(grain_position[0], grain_position[1])\n",
    "        \n",
    "        if grain_position == \"Bottom\":\n",
    "            print(\"Reached bottom\")\n",
    "            return 1\n",
    "        \n",
    "        if grain_position == \"Stop\":\n",
    "            break\n",
    "        "
   ]
  },
  {
   "cell_type": "code",
   "execution_count": 94,
   "id": "f650c9c2",
   "metadata": {},
   "outputs": [
    {
     "name": "stdout",
     "output_type": "stream",
     "text": [
      "Reached bottom\n",
      "655\n"
     ]
    }
   ],
   "source": [
    "i = 0\n",
    "while True:\n",
    "    _ = drop_grain()\n",
    "    if _:\n",
    "        print(i)\n",
    "        break\n",
    "    i +=1"
   ]
  },
  {
   "cell_type": "markdown",
   "id": "21fcb8d7",
   "metadata": {},
   "source": [
    "## Test"
   ]
  },
  {
   "cell_type": "code",
   "execution_count": 85,
   "id": "851cce94",
   "metadata": {},
   "outputs": [
    {
     "data": {
      "text/plain": [
       "array([[0., 0., 0., 0., 0., 0., 0., 0., 0., 0., 0.],\n",
       "       [0., 0., 0., 0., 0., 0., 0., 0., 0., 0., 0.],\n",
       "       [0., 0., 0., 0., 0., 0., 0., 0., 0., 0., 0.],\n",
       "       [0., 0., 0., 0., 0., 0., 0., 0., 0., 0., 0.],\n",
       "       [0., 0., 0., 0., 0., 1., 0., 0., 0., 1., 1.],\n",
       "       [0., 0., 0., 0., 0., 1., 0., 0., 0., 1., 0.],\n",
       "       [0., 0., 0., 1., 1., 1., 0., 0., 0., 1., 0.],\n",
       "       [0., 0., 0., 0., 0., 0., 0., 0., 0., 1., 0.],\n",
       "       [0., 0., 0., 0., 0., 0., 0., 0., 0., 1., 0.],\n",
       "       [0., 1., 1., 1., 1., 1., 1., 1., 1., 1., 0.]])"
      ]
     },
     "execution_count": 85,
     "metadata": {},
     "output_type": "execute_result"
    }
   ],
   "source": [
    "max_xs = []\n",
    "max_ys = []\n",
    "for line in open(\"Day14_test.txt\"):\n",
    "    x = [point.split(\",\")[0] for point in line.strip(\"\\n\").split(\" -> \")]\n",
    "    y = [point.split(\",\")[1] for point in line.strip(\"\\n\").split(\" -> \")]\n",
    "    max_x, max_y = int(max(x)), int(max(y))\n",
    "    max_xs.append(max_x)\n",
    "    max_ys.append(max_y)\n",
    "\n",
    "import numpy as np\n",
    "\n",
    "cave = np.zeros(shape = (max(max_ys)+1, max(max_xs)+1))\n",
    "\n",
    "def get_edge(vertex1, vertex2):\n",
    "    if vertex1[0] == vertex2[0]:\n",
    "        start, end = min(vertex1[1], vertex2[1]) + 1, max(vertex1[1], vertex2[1])\n",
    "        return [(vertex1[0], Y) for Y in range(start, end)]\n",
    "    elif vertex1[1] == vertex2[1]:\n",
    "        start, end = min(vertex1[0], vertex2[0]) + 1, max(vertex1[0], vertex2[0])\n",
    "        return [(X, vertex1[1]) for X in range(start, end)]\n",
    "    else:\n",
    "        print(\"I only get orthogonal edges\")\n",
    "\n",
    "for line in open(\"Day14_test.txt\"):\n",
    "    vertices = [tuple([int(coord) for coord in point.split(\",\")]) for point in line.strip(\"\\n\").split(\" -> \")]\n",
    "    \n",
    "    points = vertices\n",
    "    for vertex1, vertex2 in zip(vertices, vertices[1:]):\n",
    "        points += get_edge(vertex1, vertex2)\n",
    "        \n",
    "    for point in points:\n",
    "        cave[point[1], point[0]] = 1\n",
    "cave[:,493:]"
   ]
  },
  {
   "cell_type": "code",
   "execution_count": 86,
   "id": "0e3c68f1",
   "metadata": {},
   "outputs": [
    {
     "name": "stdout",
     "output_type": "stream",
     "text": [
      "Reached bottom\n",
      "24\n"
     ]
    },
    {
     "data": {
      "text/plain": [
       "array([[0., 0., 0., 0., 0., 0., 0., 0., 0., 0., 0.],\n",
       "       [0., 0., 0., 0., 0., 0., 0., 0., 0., 0., 0.],\n",
       "       [0., 0., 0., 0., 0., 0., 0., 2., 0., 0., 0.],\n",
       "       [0., 0., 0., 0., 0., 0., 2., 2., 2., 0., 0.],\n",
       "       [0., 0., 0., 0., 0., 1., 2., 2., 2., 1., 1.],\n",
       "       [0., 0., 0., 0., 2., 1., 2., 2., 2., 1., 0.],\n",
       "       [0., 0., 0., 1., 1., 1., 2., 2., 2., 1., 0.],\n",
       "       [0., 0., 0., 0., 0., 2., 2., 2., 2., 1., 0.],\n",
       "       [0., 0., 2., 0., 2., 2., 2., 2., 2., 1., 0.],\n",
       "       [2., 1., 1., 1., 1., 1., 1., 1., 1., 1., 0.]])"
      ]
     },
     "execution_count": 86,
     "metadata": {},
     "output_type": "execute_result"
    }
   ],
   "source": [
    "i = 0\n",
    "while True:\n",
    "    _ = drop_grain()\n",
    "    if _:\n",
    "        print(i)\n",
    "        break\n",
    "    i +=1\n",
    "cave[:,493:]"
   ]
  }
 ],
 "metadata": {
  "kernelspec": {
   "display_name": "Python 3",
   "language": "python",
   "name": "python3"
  },
  "language_info": {
   "codemirror_mode": {
    "name": "ipython",
    "version": 3
   },
   "file_extension": ".py",
   "mimetype": "text/x-python",
   "name": "python",
   "nbconvert_exporter": "python",
   "pygments_lexer": "ipython3",
   "version": "3.8.8"
  }
 },
 "nbformat": 4,
 "nbformat_minor": 5
}
