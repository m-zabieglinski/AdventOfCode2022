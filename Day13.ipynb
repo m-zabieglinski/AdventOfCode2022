{
 "cells": [
  {
   "cell_type": "code",
   "execution_count": 282,
   "id": "bdf2fc4d",
   "metadata": {},
   "outputs": [],
   "source": [
    "def compare(L, R, debug = False):\n",
    "    \n",
    "    if debug == True:\n",
    "        print(L, R)\n",
    "\n",
    "        #both are integers\n",
    "        if isinstance(L, int) and isinstance(R, int):\n",
    "            if L < R:\n",
    "                print(\"L < R\")\n",
    "                return \"Correct\"\n",
    "            if L > R:\n",
    "                print(\"L > R\")\n",
    "                return \"Incorrect\"        \n",
    "        else:\n",
    "            #convert L to list\n",
    "            if isinstance(L, int):\n",
    "                L = [L]\n",
    "\n",
    "            #convert R to list\n",
    "            if isinstance(R, int):\n",
    "                R = [R]\n",
    "\n",
    "            for l, r in zip(L, R):\n",
    "                _ = compare(l, r)\n",
    "                if _ in {\"Correct\", \"Incorrect\"}:\n",
    "                    return _\n",
    "\n",
    "            #check if L is out of range  \n",
    "            if len(L) > len(R):\n",
    "                print(\"Right side ran out of items\")\n",
    "                return \"Incorrect\"\n",
    "\n",
    "            #check if R is out of Range\n",
    "            if len(L) < len(R):\n",
    "                print(\"Left side ran out of items\")\n",
    "                return \"Correct\"\n",
    "    else:\n",
    "        #both are integers\n",
    "        if isinstance(L, int) and isinstance(R, int):\n",
    "            if L < R:\n",
    "                return \"Correct\"\n",
    "            if L > R:\n",
    "                return \"Incorrect\"        \n",
    "        else:\n",
    "            #convert L to list\n",
    "            if isinstance(L, int):\n",
    "                L = [L]\n",
    "            #convert R to list\n",
    "            if isinstance(R, int):\n",
    "                R = [R]\n",
    "            for l, r in zip(L, R):\n",
    "                _ = compare(l, r)\n",
    "                if _ in {\"Correct\", \"Incorrect\"}:\n",
    "                    return _\n",
    "            #check if L is out of range  \n",
    "            if len(L) > len(R):\n",
    "                return \"Incorrect\"\n",
    "            #check if R is out of Range\n",
    "            if len(L) < len(R):\n",
    "                return \"Correct\"\n",
    "        "
   ]
  },
  {
   "cell_type": "code",
   "execution_count": 284,
   "id": "90e2fa9b",
   "metadata": {
    "scrolled": true
   },
   "outputs": [
    {
     "data": {
      "text/plain": [
       "5580"
      ]
     },
     "execution_count": 284,
     "metadata": {},
     "output_type": "execute_result"
    }
   ],
   "source": [
    "from itertools import islice\n",
    "with open(\"Day13_input.txt\") as file:\n",
    "    results = []\n",
    "    while True:\n",
    "        pair = list(islice(file, 3))\n",
    "        if not pair:\n",
    "            break\n",
    "        exec(\"l1=\"+pair[0])\n",
    "        exec(\"l2=\"+pair[1])\n",
    "        result = compare(l1, l2)\n",
    "        results.append(result)\n",
    "indices = [idx+1 for idx, result in enumerate(results) if result == \"Correct\"]\n",
    "sum(indices)"
   ]
  },
  {
   "cell_type": "markdown",
   "id": "dde73685",
   "metadata": {},
   "source": [
    "## Part 2"
   ]
  },
  {
   "cell_type": "code",
   "execution_count": null,
   "id": "4963d110",
   "metadata": {},
   "outputs": [],
   "source": [
    "from itertools import islice\n",
    "with open(\"Day13_input.txt\") as file:\n",
    "    results = []\n",
    "    while True:\n",
    "        pair = list(islice(file, 3))\n",
    "        if not pair:\n",
    "            break\n",
    "        exec(\"l1=\"+pair[0])\n",
    "        exec(\"l2=\"+pair[1])\n",
    "        result = compare(l1, l2)\n",
    "        results.append(result)\n",
    "indices = [idx+1 for idx, result in enumerate(results) if result == \"Correct\"]\n",
    "sum(indices)"
   ]
  },
  {
   "cell_type": "markdown",
   "id": "ea7f4ee8",
   "metadata": {},
   "source": [
    "## TEST"
   ]
  },
  {
   "cell_type": "code",
   "execution_count": 271,
   "id": "b8c32c5a",
   "metadata": {
    "collapsed": true
   },
   "outputs": [
    {
     "name": "stdout",
     "output_type": "stream",
     "text": [
      "[1, 1, 3, 1, 1] [1, 1, 5, 1, 1]\n",
      "1 1\n",
      "1 1\n",
      "3 5\n",
      "L < R\n",
      "Correct\n",
      "\n",
      "\n",
      "[[1], [2, 3, 4]] [[1], 4]\n",
      "[1] [1]\n",
      "1 1\n",
      "[2, 3, 4] 4\n",
      "2 4\n",
      "L < R\n",
      "Correct\n",
      "\n",
      "\n",
      "[9] [[8, 7, 6]]\n",
      "9 [8, 7, 6]\n",
      "9 8\n",
      "L > R\n",
      "Incorrect\n",
      "\n",
      "\n",
      "[[4, 4], 4, 4] [[4, 4], 4, 4, 4]\n",
      "[4, 4] [4, 4]\n",
      "4 4\n",
      "4 4\n",
      "4 4\n",
      "4 4\n",
      "Left side ran out of items\n",
      "Correct\n",
      "\n",
      "\n",
      "[7, 7, 7, 7] [7, 7, 7]\n",
      "7 7\n",
      "7 7\n",
      "7 7\n",
      "Right side ran out of items\n",
      "Incorrect\n",
      "\n",
      "\n",
      "[] [3]\n",
      "Left side ran out of items\n",
      "Correct\n",
      "\n",
      "\n",
      "[[[]]] [[]]\n",
      "[[]] []\n",
      "Right side ran out of items\n",
      "Incorrect\n",
      "\n",
      "\n",
      "[1, [2, [3, [4, [5, 6, 7]]]], 8, 9] [1, [2, [3, [4, [5, 6, 0]]]], 8, 9]\n",
      "1 1\n",
      "[2, [3, [4, [5, 6, 7]]]] [2, [3, [4, [5, 6, 0]]]]\n",
      "2 2\n",
      "[3, [4, [5, 6, 7]]] [3, [4, [5, 6, 0]]]\n",
      "3 3\n",
      "[4, [5, 6, 7]] [4, [5, 6, 0]]\n",
      "4 4\n",
      "[5, 6, 7] [5, 6, 0]\n",
      "5 5\n",
      "6 6\n",
      "7 0\n",
      "L > R\n",
      "Incorrect\n",
      "\n",
      "\n"
     ]
    },
    {
     "data": {
      "text/plain": [
       "13"
      ]
     },
     "execution_count": 271,
     "metadata": {},
     "output_type": "execute_result"
    }
   ],
   "source": [
    "from itertools import islice\n",
    "with open(\"Day13_test.txt\") as file:\n",
    "    results = []\n",
    "    while True:\n",
    "        pair = list(islice(file, 3))\n",
    "        if not pair:\n",
    "            break\n",
    "        exec(\"L=\"+pair[0])\n",
    "        exec(\"R=\"+pair[1])\n",
    "        result = outer_compare(L, R)\n",
    "        results.append(result)\n",
    "        print(result)\n",
    "        print(\"\\n\")\n",
    "indices = [idx+1 for idx, result in enumerate(results) if result == \"Correct\"]\n",
    "sum(indices)"
   ]
  },
  {
   "cell_type": "code",
   "execution_count": null,
   "id": "0accb87d",
   "metadata": {},
   "outputs": [],
   "source": [
    "from itertools import islice\n",
    "with open(\"Day13_test.txt\") as file:\n",
    "    results = []\n",
    "    while True:\n",
    "        pair = list(islice(file, 3))\n",
    "        if not pair:\n",
    "            break\n",
    "        exec(\"l1=\"+pair[0])\n",
    "        exec(\"l2=\"+pair[1])\n",
    "        result = compare(l1, l2)\n",
    "        results.append(result)\n",
    "indices = [idx+1 for idx, result in enumerate(results) if result == \"Correct\"]\n",
    "sum(indices)"
   ]
  }
 ],
 "metadata": {
  "kernelspec": {
   "display_name": "Python 3",
   "language": "python",
   "name": "python3"
  },
  "language_info": {
   "codemirror_mode": {
    "name": "ipython",
    "version": 3
   },
   "file_extension": ".py",
   "mimetype": "text/x-python",
   "name": "python",
   "nbconvert_exporter": "python",
   "pygments_lexer": "ipython3",
   "version": "3.8.8"
  }
 },
 "nbformat": 4,
 "nbformat_minor": 5
}
