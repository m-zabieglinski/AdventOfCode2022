{
 "cells": [
  {
   "cell_type": "code",
   "execution_count": 2,
   "id": "bdf2fc4d",
   "metadata": {},
   "outputs": [],
   "source": [
    "def compare(L, R, debug = False):\n",
    "    \n",
    "    if debug == True:\n",
    "        print(L, R)\n",
    "\n",
    "        #both are integers\n",
    "        if isinstance(L, int) and isinstance(R, int):\n",
    "            if L < R:\n",
    "                print(\"L < R\")\n",
    "                return \"Correct\"\n",
    "            if L > R:\n",
    "                print(\"L > R\")\n",
    "                return \"Incorrect\"        \n",
    "        else:\n",
    "            #convert L to list\n",
    "            if isinstance(L, int):\n",
    "                L = [L]\n",
    "\n",
    "            #convert R to list\n",
    "            if isinstance(R, int):\n",
    "                R = [R]\n",
    "\n",
    "            for l, r in zip(L, R):\n",
    "                _ = compare(l, r)\n",
    "                if _ in {\"Correct\", \"Incorrect\"}:\n",
    "                    return _\n",
    "\n",
    "            #check if L is out of range  \n",
    "            if len(L) > len(R):\n",
    "                print(\"Right side ran out of items\")\n",
    "                return \"Incorrect\"\n",
    "\n",
    "            #check if R is out of Range\n",
    "            if len(L) < len(R):\n",
    "                print(\"Left side ran out of items\")\n",
    "                return \"Correct\"\n",
    "    else:\n",
    "        #both are integers\n",
    "        if isinstance(L, int) and isinstance(R, int):\n",
    "            if L < R:\n",
    "                return \"Correct\"\n",
    "            if L > R:\n",
    "                return \"Incorrect\"        \n",
    "        else:\n",
    "            #convert L to list\n",
    "            if isinstance(L, int):\n",
    "                L = [L]\n",
    "            #convert R to list\n",
    "            if isinstance(R, int):\n",
    "                R = [R]\n",
    "            for l, r in zip(L, R):\n",
    "                _ = compare(l, r)\n",
    "                if _ in {\"Correct\", \"Incorrect\"}:\n",
    "                    return _\n",
    "            #check if L is out of range  \n",
    "            if len(L) > len(R):\n",
    "                return \"Incorrect\"\n",
    "            #check if R is out of Range\n",
    "            if len(L) < len(R):\n",
    "                return \"Correct\"\n",
    "\n",
    "def outer_compare(L, R, debug = False):\n",
    "    _ = compare(L, R, debug)\n",
    "    if _:\n",
    "        return _\n",
    "    else:\n",
    "        return \"Correct\""
   ]
  },
  {
   "cell_type": "code",
   "execution_count": 3,
   "id": "90e2fa9b",
   "metadata": {
    "scrolled": true
   },
   "outputs": [
    {
     "data": {
      "text/plain": [
       "5580"
      ]
     },
     "execution_count": 3,
     "metadata": {},
     "output_type": "execute_result"
    }
   ],
   "source": [
    "from itertools import islice\n",
    "with open(\"Day13_input.txt\") as file:\n",
    "    results = []\n",
    "    while True:\n",
    "        pair = list(islice(file, 3))\n",
    "        if not pair:\n",
    "            break\n",
    "        exec(\"L=\"+pair[0])\n",
    "        exec(\"R=\"+pair[1])\n",
    "        result = outer_compare(L, R)\n",
    "        results.append(result)\n",
    "indices = [idx+1 for idx, result in enumerate(results) if result == \"Correct\"]\n",
    "sum(indices)"
   ]
  },
  {
   "cell_type": "markdown",
   "id": "dde73685",
   "metadata": {},
   "source": [
    "## Part 2"
   ]
  },
  {
   "cell_type": "code",
   "execution_count": 47,
   "id": "4963d110",
   "metadata": {},
   "outputs": [
    {
     "data": {
      "text/plain": [
       "26200"
      ]
     },
     "execution_count": 47,
     "metadata": {},
     "output_type": "execute_result"
    }
   ],
   "source": [
    "from itertools import islice\n",
    "with open(\"Day13_input.txt\") as file:\n",
    "    results = []\n",
    "    packets = []\n",
    "    while True:\n",
    "        pair = list(islice(file, 3))\n",
    "        if not pair:\n",
    "            break\n",
    "        exec(\"L=\"+pair[0])\n",
    "        exec(\"R=\"+pair[1])\n",
    "        packets.append(L)\n",
    "        packets.append(R)\n",
    "packets.append([[2]])\n",
    "packets.append([[6]])\n",
    "\n",
    "stop = 1\n",
    "while stop == 1:\n",
    "    stop = 0\n",
    "    for i in range(len(packets)-1):\n",
    "        L = packets[i]\n",
    "        R = packets[i+1]\n",
    "        if compare(L, R) == \"Incorrect\":\n",
    "            packets[i] = R\n",
    "            packets[i+1] = L\n",
    "            stop = 1\n",
    "(packets.index([[2]]) + 1) * (packets.index([[6]]) + 1)"
   ]
  },
  {
   "cell_type": "markdown",
   "id": "ea7f4ee8",
   "metadata": {},
   "source": [
    "## TEST"
   ]
  },
  {
   "cell_type": "code",
   "execution_count": 24,
   "id": "b8c32c5a",
   "metadata": {},
   "outputs": [
    {
     "data": {
      "text/plain": [
       "13"
      ]
     },
     "execution_count": 24,
     "metadata": {},
     "output_type": "execute_result"
    }
   ],
   "source": [
    "from itertools import islice\n",
    "with open(\"Day13_test.txt\") as file:\n",
    "    results = []\n",
    "    while True:\n",
    "        pair = list(islice(file, 3))\n",
    "        if not pair:\n",
    "            break\n",
    "        exec(\"L=\"+pair[0])\n",
    "        exec(\"R=\"+pair[1])\n",
    "        result = outer_compare(L, R, debug = False)\n",
    "        results.append(result)\n",
    "indices = [idx+1 for idx, result in enumerate(results) if result == \"Correct\"]\n",
    "sum(indices)"
   ]
  },
  {
   "cell_type": "code",
   "execution_count": 45,
   "id": "ad816038",
   "metadata": {},
   "outputs": [
    {
     "data": {
      "text/plain": [
       "([[],\n",
       "  [[]],\n",
       "  [[[]]],\n",
       "  [1, 1, 3, 1, 1],\n",
       "  [1, 1, 5, 1, 1],\n",
       "  [[1], [2, 3, 4]],\n",
       "  [1, [2, [3, [4, [5, 6, 0]]]], 8, 9],\n",
       "  [1, [2, [3, [4, [5, 6, 7]]]], 8, 9],\n",
       "  [[1], 4],\n",
       "  [[2]],\n",
       "  [3],\n",
       "  [[4, 4], 4, 4],\n",
       "  [[4, 4], 4, 4, 4],\n",
       "  [[6]],\n",
       "  [7, 7, 7],\n",
       "  [7, 7, 7, 7],\n",
       "  [[8, 7, 6]],\n",
       "  [9]],\n",
       " 140)"
      ]
     },
     "execution_count": 45,
     "metadata": {},
     "output_type": "execute_result"
    }
   ],
   "source": [
    "from itertools import islice\n",
    "with open(\"Day13_test.txt\") as file:\n",
    "    results = []\n",
    "    packets = []\n",
    "    while True:\n",
    "        pair = list(islice(file, 3))\n",
    "        if not pair:\n",
    "            break\n",
    "        exec(\"L=\"+pair[0])\n",
    "        exec(\"R=\"+pair[1])\n",
    "        packets.append(L)\n",
    "        packets.append(R)\n",
    "packets.append([[2]])\n",
    "packets.append([[6]])\n",
    "\n",
    "stop = 1\n",
    "while stop == 1:\n",
    "    stop = 0\n",
    "    for i in range(len(packets)-1):\n",
    "        L = packets[i]\n",
    "        R = packets[i+1]\n",
    "        if compare(L, R) == \"Incorrect\":\n",
    "            packets[i] = R\n",
    "            packets[i+1] = L\n",
    "            stop = 1\n",
    "packets, (packets.index([[2]]) + 1) * (packets.index([[6]]) + 1)"
   ]
  },
  {
   "cell_type": "markdown",
   "id": "04d92a17",
   "metadata": {},
   "source": [
    "##### from itertools import islice\n",
    "with open(\"Day13_test.txt\") as file:\n",
    "    results = []\n",
    "    while True:\n",
    "        pair = list(islice(file, 3))\n",
    "        if not pair:\n",
    "            break\n",
    "        exec(\"l1=\"+pair[0])\n",
    "        exec(\"l2=\"+pair[1])\n",
    "        result = compare(l1, l2)\n",
    "        results.append(result)\n",
    "indices = [idx+1 for idx, result in enumerate(results) if result == \"Correct\"]\n",
    "sum(indices)"
   ]
  },
  {
   "cell_type": "code",
   "execution_count": 5,
   "id": "a6cc0f91",
   "metadata": {},
   "outputs": [],
   "source": [
    "def outer_compare(L, R):\n",
    "    _ = compare(L, R)\n",
    "    if _:\n",
    "        return _\n",
    "    else:\n",
    "        return \"Correct\""
   ]
  },
  {
   "cell_type": "code",
   "execution_count": 10,
   "id": "ac869bfb",
   "metadata": {},
   "outputs": [],
   "source": [
    "x = [9, 8, 7, 6, 5, 4, 3, 2, 1, 2, 3, 4, 5, 6, 7, 8, 9]"
   ]
  }
 ],
 "metadata": {
  "kernelspec": {
   "display_name": "Python 3",
   "language": "python",
   "name": "python3"
  },
  "language_info": {
   "codemirror_mode": {
    "name": "ipython",
    "version": 3
   },
   "file_extension": ".py",
   "mimetype": "text/x-python",
   "name": "python",
   "nbconvert_exporter": "python",
   "pygments_lexer": "ipython3",
   "version": "3.8.8"
  }
 },
 "nbformat": 4,
 "nbformat_minor": 5
}
