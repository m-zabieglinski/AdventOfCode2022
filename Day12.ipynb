{
 "cells": [
  {
   "cell_type": "code",
   "execution_count": 254,
   "id": "aa98c78d",
   "metadata": {},
   "outputs": [
    {
     "data": {
      "text/plain": [
       "(array([['a', 'b', 'a', ..., 'a', 'a', 'a'],\n",
       "        ['a', 'b', 'a', ..., 'a', 'a', 'a'],\n",
       "        ['a', 'b', 'a', ..., 'a', 'a', 'a'],\n",
       "        ...,\n",
       "        ['a', 'b', 'a', ..., 'a', 'a', 'a'],\n",
       "        ['a', 'b', 'c', ..., 'a', 'a', 'a'],\n",
       "        ['a', 'b', 'c', ..., 'a', 'a', 'a']], dtype='<U1'),\n",
       " (41, 67))"
      ]
     },
     "execution_count": 254,
     "metadata": {},
     "output_type": "execute_result"
    }
   ],
   "source": [
    "import numpy as np\n",
    "\n",
    "_ = []\n",
    "for line in open(\"Day12_input.txt\", \"r\"):\n",
    "    _.append(list(line.strip(\"\\n\")))\n",
    "hill_map = np.array(_)\n",
    "hill_map, hill_map.shape"
   ]
  },
  {
   "cell_type": "code",
   "execution_count": 255,
   "id": "58daf57f",
   "metadata": {},
   "outputs": [
    {
     "data": {
      "text/plain": [
       "((20, 0), (20, 43))"
      ]
     },
     "execution_count": 255,
     "metadata": {},
     "output_type": "execute_result"
    }
   ],
   "source": [
    "start, end = np.where(hill_map == \"S\"), np.where(hill_map == \"E\")\n",
    "start_row, start_col = start[0][0], start[1][0]\n",
    "end_row, end_col = end[0][0], end[1][0]\n",
    "\n",
    "(start_row, start_col), (end_row, end_col)"
   ]
  },
  {
   "cell_type": "code",
   "execution_count": 256,
   "id": "1877d290",
   "metadata": {},
   "outputs": [
    {
     "data": {
      "text/plain": [
       "('S', 'E')"
      ]
     },
     "execution_count": 256,
     "metadata": {},
     "output_type": "execute_result"
    }
   ],
   "source": [
    "hill_map[start_row, start_col], hill_map[end_row, end_col]"
   ]
  },
  {
   "cell_type": "code",
   "execution_count": 257,
   "id": "5a09bdda",
   "metadata": {},
   "outputs": [
    {
     "data": {
      "text/plain": [
       "('a', 'z')"
      ]
     },
     "execution_count": 257,
     "metadata": {},
     "output_type": "execute_result"
    }
   ],
   "source": [
    "hill_map[start_row, start_col] = \"a\"\n",
    "hill_map[end_row, end_col] = \"z\"\n",
    "hill_map[start_row, start_col], hill_map[end_row, end_col]"
   ]
  },
  {
   "cell_type": "code",
   "execution_count": 258,
   "id": "0d6590ec",
   "metadata": {},
   "outputs": [
    {
     "data": {
      "text/plain": [
       "array([[97, 98, 97, ..., 97, 97, 97],\n",
       "       [97, 98, 97, ..., 97, 97, 97],\n",
       "       [97, 98, 97, ..., 97, 97, 97],\n",
       "       ...,\n",
       "       [97, 98, 97, ..., 97, 97, 97],\n",
       "       [97, 98, 99, ..., 97, 97, 97],\n",
       "       [97, 98, 99, ..., 97, 97, 97]])"
      ]
     },
     "execution_count": 258,
     "metadata": {},
     "output_type": "execute_result"
    }
   ],
   "source": [
    "translate = np.vectorize(ord)\n",
    "hill_map = translate(hill_map)\n",
    "hill_map"
   ]
  },
  {
   "cell_type": "code",
   "execution_count": 259,
   "id": "cd6cca3b",
   "metadata": {
    "scrolled": true
   },
   "outputs": [
    {
     "data": {
      "text/plain": [
       "(97, 122)"
      ]
     },
     "execution_count": 259,
     "metadata": {},
     "output_type": "execute_result"
    }
   ],
   "source": [
    "hill_map[start_row, start_col], hill_map[end_row, end_col]"
   ]
  },
  {
   "cell_type": "code",
   "execution_count": 260,
   "id": "ef4f2f0c",
   "metadata": {},
   "outputs": [
    {
     "name": "stdout",
     "output_type": "stream",
     "text": [
      "[(20, 0), (21, 0), (22, 0), (23, 0), (23, 1), (23, 2), (23, 3), (23, 4), (23, 5), (23, 6), (23, 7), (23, 8), (23, 9), (23, 10), (24, 10), (24, 11), (24, 12), (24, 13), (25, 13), (26, 13), (26, 14), (26, 15), (26, 16), (26, 17), (25, 17), (24, 17), (24, 18), (24, 19), (24, 20), (23, 20), (22, 20), (21, 20), (20, 20), (19, 20), (18, 20), (17, 20), (16, 20), (15, 20), (14, 20), (14, 21), (14, 22), (14, 23), (13, 23), (12, 23), (11, 23), (10, 23), (9, 23), (8, 23), (7, 23), (6, 23), (6, 24), (6, 25), (6, 26), (6, 27), (6, 28), (6, 29), (6, 30), (6, 31), (6, 32), (6, 33), (5, 33), (4, 33), (3, 33), (2, 33), (1, 33), (1, 34), (1, 35), (1, 36), (1, 37), (1, 38), (1, 39), (1, 40), (1, 41), (1, 42), (1, 43), (1, 44), (1, 45), (1, 46), (1, 47), (1, 48), (1, 49), (1, 50), (1, 51), (1, 52), (1, 53), (1, 54), (2, 54), (3, 54), (4, 54), (5, 54), (6, 54), (7, 54), (8, 54), (9, 54), (9, 55), (9, 56), (10, 56), (10, 57), (10, 58), (11, 58), (11, 59), (12, 59), (12, 60), (13, 60), (14, 60), (15, 60), (16, 60), (17, 60), (18, 60), (19, 60), (20, 60), (21, 60), (21, 59), (22, 59), (22, 58), (23, 58), (24, 58), (24, 57), (25, 57), (26, 57), (27, 57), (28, 57), (29, 57), (30, 57), (31, 57), (31, 56), (32, 56), (32, 55), (33, 55), (33, 54), (33, 53), (33, 52), (33, 51), (33, 50), (33, 49), (33, 48), (33, 47), (33, 46), (33, 45), (33, 44), (33, 43), (33, 42), (33, 41), (33, 40), (33, 39), (33, 38), (33, 37), (33, 36), (33, 35), (32, 35), (31, 35), (31, 34), (30, 34), (29, 34), (28, 34), (27, 34), (26, 34), (26, 33), (25, 33), (24, 33), (23, 33), (23, 32), (22, 32), (21, 32), (20, 32), (19, 32), (18, 32), (17, 32), (16, 32), (15, 32), (14, 32), (14, 33), (13, 33), (13, 34), (13, 35), (12, 35), (12, 36), (12, 37), (11, 37), (11, 38), (10, 38), (10, 39), (9, 39), (9, 40), (8, 40), (8, 41), (7, 41), (7, 42), (7, 43), (7, 44), (7, 45), (7, 46), (7, 47), (7, 48), (7, 49), (8, 49), (8, 50), (9, 50), (9, 51), (10, 51), (10, 52), (11, 52), (11, 53), (11, 54), (12, 54), (12, 55), (12, 56), (13, 56), (13, 57), (14, 57), (15, 57), (16, 57), (17, 57), (18, 57), (19, 57), (20, 57), (21, 57), (21, 56), (22, 56), (22, 55), (23, 55), (24, 55), (25, 55), (26, 55), (27, 55), (28, 55), (28, 54), (29, 54), (30, 54), (30, 53), (30, 52), (31, 52), (31, 51), (31, 50), (31, 49), (31, 48), (31, 47), (31, 46), (31, 45), (31, 44), (31, 43), (31, 42), (31, 41), (31, 40), (31, 39), (31, 38), (31, 37), (30, 37), (29, 37), (29, 36), (28, 36), (27, 36), (26, 36), (25, 36), (24, 36), (23, 36), (23, 35), (22, 35), (21, 35), (20, 35), (19, 35), (18, 35), (17, 35), (16, 35), (15, 35), (15, 36), (14, 36), (14, 37), (14, 38), (14, 39), (13, 39), (13, 40), (12, 40), (12, 41), (11, 41), (11, 42), (10, 42), (10, 43), (10, 44), (10, 45), (10, 46), (10, 47), (10, 48), (11, 48), (11, 49), (12, 49), (12, 50), (13, 50), (13, 51), (14, 51), (14, 52), (14, 53), (14, 54), (15, 54), (15, 55), (16, 55), (17, 55), (18, 55), (19, 55), (19, 54), (20, 54), (21, 54), (21, 53), (22, 53), (22, 52), (23, 52), (24, 52), (25, 52), (26, 52), (27, 52), (28, 52), (28, 51), (28, 50), (28, 49), (28, 48), (28, 47), (28, 46), (28, 45), (28, 44), (28, 43), (28, 42), (28, 41), (28, 40), (28, 39), (27, 39), (26, 39), (25, 39), (24, 39), (23, 39), (22, 39), (22, 38), (21, 38), (20, 38), (19, 38), (18, 38), (17, 38), (16, 38), (16, 39), (16, 40), (16, 41), (15, 41), (15, 42), (14, 42), (14, 43), (13, 43), (13, 44), (13, 45), (13, 46), (13, 47), (13, 48), (14, 48), (15, 48), (15, 49), (16, 49), (16, 50), (16, 51), (16, 52), (17, 52), (18, 52), (19, 52), (20, 52), (20, 51), (21, 51), (21, 50), (22, 50), (23, 50), (24, 50), (25, 50), (25, 49), (25, 48), (25, 47), (25, 46), (25, 45), (25, 44), (25, 43), (25, 42), (24, 42), (23, 42), (22, 42), (21, 42), (21, 43), (21, 44), (20, 44), (20, 43)]\n",
      " 383\n"
     ]
    }
   ],
   "source": [
    "import networkx as nx\n",
    "\n",
    "graph = nx.DiGraph()\n",
    "\n",
    "for row in range(hill_map.shape[0]):\n",
    "    for col in range(hill_map.shape[1]):\n",
    "        \n",
    "        if row != hill_map.shape[0]-1:\n",
    "            if abs(hill_map[row + 1, col] - hill_map[row, col]) < 2:\n",
    "                graph.add_edge((row, col), (row + 1, col))\n",
    "                graph.add_edge((row + 1, col), (row, col))\n",
    "            else:\n",
    "                compare_dict = {hill_map[row, col]: (row, col), hill_map[row + 1, col]: (row + 1, col)}\n",
    "                graph.add_edge(compare_dict[max(list(compare_dict.keys()))], compare_dict[min(list(compare_dict.keys()))])\n",
    "            \n",
    "        if row != 0:\n",
    "            if abs(hill_map[row - 1, col] - hill_map[row, col]) < 2:\n",
    "                graph.add_edge((row, col), (row - 1, col))\n",
    "                graph.add_edge((row - 1, col), (row, col))\n",
    "            else:\n",
    "                compare_dict = {hill_map[row, col]: (row, col), hill_map[row - 1, col]: (row - 1, col)}\n",
    "                graph.add_edge(compare_dict[max(list(compare_dict.keys()))], compare_dict[min(list(compare_dict.keys()))])\n",
    "                \n",
    "        if col != hill_map.shape[1]-1:\n",
    "            if abs(hill_map[row, col + 1] - hill_map[row, col]) < 2:\n",
    "                graph.add_edge((row, col), (row, col + 1))\n",
    "                graph.add_edge((row, col + 1), (row, col))\n",
    "            else:\n",
    "                compare_dict = {hill_map[row, col]: (row, col), hill_map[row, col + 1]: (row, col + 1)}\n",
    "                graph.add_edge(compare_dict[max(list(compare_dict.keys()))], compare_dict[min(list(compare_dict.keys()))])\n",
    "                \n",
    "        if col != 0:\n",
    "            if abs(hill_map[row, col - 1] - hill_map[row, col]) < 2:\n",
    "                graph.add_edge((row, col), (row, col - 1))\n",
    "                graph.add_edge((row, col - 1), (row, col))\n",
    "            else:\n",
    "                compare_dict = {hill_map[row, col]: (row, col), hill_map[row, col - 1]: (row, col - 1)}\n",
    "                graph.add_edge(compare_dict[max(list(compare_dict.keys()))], compare_dict[min(list(compare_dict.keys()))])\n",
    "            \n",
    "path = nx.bidirectional_shortest_path(graph, (start_row, start_col), (end_row, end_col))  \n",
    "print(f\"{path}\\n {len(path)-1}\")"
   ]
  },
  {
   "cell_type": "markdown",
   "id": "2fd3bb0d",
   "metadata": {},
   "source": [
    "## PART 2"
   ]
  },
  {
   "cell_type": "code",
   "execution_count": 262,
   "id": "3fab78e4",
   "metadata": {},
   "outputs": [
    {
     "data": {
      "text/plain": [
       "377"
      ]
     },
     "execution_count": 262,
     "metadata": {},
     "output_type": "execute_result"
    }
   ],
   "source": [
    "all_paths = []\n",
    "for row in range(hill_map.shape[0]):\n",
    "    for col in range(hill_map.shape[1]):\n",
    "        if hill_map[row, col] == 97 and nx.has_path(graph, (row, col), (end_row, end_col)):\n",
    "            all_paths.append(nx.bidirectional_shortest_path(graph, (row, col), (end_row, end_col)))\n",
    "shortest_distance = min([len(path) for path in all_paths]) - 1\n",
    "shortest_distance"
   ]
  },
  {
   "cell_type": "code",
   "execution_count": null,
   "id": "542db0d9",
   "metadata": {
    "scrolled": true
   },
   "outputs": [],
   "source": [
    "all_paths[0]"
   ]
  },
  {
   "cell_type": "markdown",
   "id": "df75aac0",
   "metadata": {},
   "source": [
    "## TESTING"
   ]
  },
  {
   "cell_type": "code",
   "execution_count": null,
   "id": "ea7f5641",
   "metadata": {},
   "outputs": [],
   "source": [
    "import numpy as np\n",
    "\n",
    "_ = []\n",
    "for line in open(\"Day12_test.txt\", \"r\"):\n",
    "    _.append(list(line.strip(\"\\n\")))\n",
    "hill_map = np.array(_)\n",
    "\n",
    "start, end = np.where(hill_map == \"S\"), np.where(hill_map == \"E\")\n",
    "start_row, start_col = start[0][0], start[1][0]\n",
    "end_row, end_col = end[0][0], end[1][0]\n",
    "\n",
    "hill_map[start_row, start_col] = \"a\"\n",
    "hill_map[end_row, end_col] = \"z\"\n",
    "\n",
    "translate = np.vectorize(ord)\n",
    "hill_map = translate(hill_map)\n",
    "\n",
    "import networkx as nx\n",
    "\n",
    "graph = nx.DiGraph()\n",
    "\n",
    "for row in range(hill_map.shape[0]):\n",
    "    for col in range(hill_map.shape[1]):\n",
    "        #graph.add_node((row, col))\n",
    "        \n",
    "        if row != hill_map.shape[0]-1:\n",
    "            if abs(hill_map[row + 1, col] - hill_map[row, col]) < 2:\n",
    "                graph.add_edge((row, col), (row + 1, col))\n",
    "                graph.add_edge((row + 1, col), (row, col))\n",
    "            else:\n",
    "                compare_dict = {hill_map[row, col]: (row, col), hill_map[row + 1, col]: (row + 1, col)}\n",
    "                graph.add_edge(compare_dict[max(list(compare_dict.keys()))], compare_dict[min(list(compare_dict.keys()))])\n",
    "            \n",
    "        if row != 0:\n",
    "            if abs(hill_map[row - 1, col] - hill_map[row, col]) < 2:\n",
    "                graph.add_edge((row, col), (row - 1, col))\n",
    "                graph.add_edge((row - 1, col), (row, col))\n",
    "            else:\n",
    "                compare_dict = {hill_map[row, col]: (row, col), hill_map[row - 1, col]: (row - 1, col)}\n",
    "                graph.add_edge(compare_dict[max(list(compare_dict.keys()))], compare_dict[min(list(compare_dict.keys()))])\n",
    "                \n",
    "        if col != hill_map.shape[1]-1:\n",
    "            if abs(hill_map[row, col + 1] - hill_map[row, col]) < 2:\n",
    "                graph.add_edge((row, col), (row, col + 1))\n",
    "                graph.add_edge((row, col + 1), (row, col))\n",
    "            else:\n",
    "                compare_dict = {hill_map[row, col]: (row, col), hill_map[row, col + 1]: (row, col + 1)}\n",
    "                graph.add_edge(compare_dict[max(list(compare_dict.keys()))], compare_dict[min(list(compare_dict.keys()))])\n",
    "                \n",
    "        if col != 0:\n",
    "            if abs(hill_map[row, col - 1] - hill_map[row, col]) < 2:\n",
    "                graph.add_edge((row, col), (row, col - 1))\n",
    "                graph.add_edge((row, col - 1), (row, col))\n",
    "            else:\n",
    "                compare_dict = {hill_map[row, col]: (row, col), hill_map[row, col - 1]: (row, col - 1)}\n",
    "                graph.add_edge(compare_dict[max(list(compare_dict.keys()))], compare_dict[min(list(compare_dict.keys()))])\n",
    "            \n",
    "path = nx.bidirectional_shortest_path(graph, (start_row, start_col), (end_row, end_col))  \n",
    "print(f\"{path}\\n {len(path)-1}\")"
   ]
  },
  {
   "cell_type": "code",
   "execution_count": null,
   "id": "8a44415f",
   "metadata": {},
   "outputs": [],
   "source": [
    "all_paths = []hil\n",
    "for row in range(hill_map.shape[0]):\n",
    "    for col in range(hill_map.shape[1]):\n",
    "        if hill_map[row, col] == 111:\n",
    "            all_paths.append(nx.bidirectional_shortest_path(graph, (row, col), (end_row, end_col)))\n",
    "all_paths"
   ]
  },
  {
   "cell_type": "code",
   "execution_count": null,
   "id": "ae3cd1df",
   "metadata": {},
   "outputs": [],
   "source": [
    "hill_map[0,5]"
   ]
  },
  {
   "cell_type": "code",
   "execution_count": null,
   "id": "76a6fbf1",
   "metadata": {},
   "outputs": [],
   "source": [
    "hill_map"
   ]
  },
  {
   "cell_type": "code",
   "execution_count": null,
   "id": "ecee33fe",
   "metadata": {},
   "outputs": [],
   "source": []
  }
 ],
 "metadata": {
  "kernelspec": {
   "display_name": "Python 3",
   "language": "python",
   "name": "python3"
  },
  "language_info": {
   "codemirror_mode": {
    "name": "ipython",
    "version": 3
   },
   "file_extension": ".py",
   "mimetype": "text/x-python",
   "name": "python",
   "nbconvert_exporter": "python",
   "pygments_lexer": "ipython3",
   "version": "3.8.8"
  }
 },
 "nbformat": 4,
 "nbformat_minor": 5
}
