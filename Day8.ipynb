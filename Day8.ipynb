{
 "cells": [
  {
   "cell_type": "markdown",
   "id": "eaf7d921",
   "metadata": {},
   "source": [
    "--- Day 8: Treetop Tree House ---\n",
    "\n",
    "The expedition comes across a peculiar patch of tall trees all planted carefully in a grid. The Elves explain that a previous expedition planted these trees as a reforestation effort. Now, they're curious if this would be a good location for a tree house.\n",
    "\n",
    "First, determine whether there is enough tree cover here to keep a tree house hidden. To do this, you need to count the number of trees that are visible from outside the grid when looking directly along a row or column.\n",
    "\n",
    "The Elves have already launched a quadcopter to generate a map with the height of each tree (your puzzle input). For example:\n",
    "\n",
    "    30373\n",
    "    25512\n",
    "    65332\n",
    "    33549\n",
    "    35390\n",
    "\n",
    "Each tree is represented as a single digit whose value is its height, where 0 is the shortest and 9 is the tallest.\n",
    "\n",
    "A tree is visible if all of the other trees between it and an edge of the grid are shorter than it. Only consider trees in the same row or column; that is, only look up, down, left, or right from any given tree.\n",
    "\n",
    "All of the trees around the edge of the grid are visible - since they are already on the edge, there are no trees to block the view. In this example, that only leaves the interior nine trees to consider:\n",
    "\n",
    "    The top-left 5 is visible from the left and top. (It isn't visible from the right or bottom since other trees of height 5 are in the way.)\n",
    "    The top-middle 5 is visible from the top and right.\n",
    "    The top-right 1 is not visible from any direction; for it to be visible, there would need to only be trees of height 0 between it and an edge.\n",
    "    The left-middle 5 is visible, but only from the right.\n",
    "    The center 3 is not visible from any direction; for it to be visible, there would need to be only trees of at most height 2 between it and an edge.\n",
    "    The right-middle 3 is visible from the right.\n",
    "    In the bottom row, the middle 5 is visible, but the 3 and 4 are not.\n",
    "\n",
    "With 16 trees visible on the edge and another 5 visible in the interior, a total of 21 trees are visible in this arrangement.\n",
    "\n",
    "Consider your map; how many trees are visible from outside the grid?\n"
   ]
  },
  {
   "cell_type": "code",
   "execution_count": 17,
   "id": "2331bd68",
   "metadata": {},
   "outputs": [
    {
     "data": {
      "text/plain": [
       "array([['3', '3', '3', ..., '3', '0', '3'],\n",
       "       ['1', '3', '4', ..., '1', '3', '0'],\n",
       "       ['2', '1', '0', ..., '2', '4', '2'],\n",
       "       ...,\n",
       "       ['2', '0', '2', ..., '3', '4', '2'],\n",
       "       ['0', '4', '1', ..., '4', '4', '3'],\n",
       "       ['4', '2', '0', ..., '0', '4', '2']], dtype='<U1')"
      ]
     },
     "execution_count": 17,
     "metadata": {},
     "output_type": "execute_result"
    }
   ],
   "source": [
    "import numpy as np\n",
    "forest_list = []\n",
    "\n",
    "for line in open(\"Day8_input.txt\", \"r\"):\n",
    "    forest_list.append(list(line.strip(\"\\n\")))\n",
    "\n",
    "forest_array = np.array(forest_list)\n",
    "forest_array"
   ]
  },
  {
   "cell_type": "code",
   "execution_count": 18,
   "id": "8cac17f1",
   "metadata": {},
   "outputs": [
    {
     "data": {
      "text/plain": [
       "array([[1., 1., 1., ..., 1., 1., 1.],\n",
       "       [1., 1., 1., ..., 0., 1., 1.],\n",
       "       [1., 0., 0., ..., 0., 1., 1.],\n",
       "       ...,\n",
       "       [1., 0., 1., ..., 0., 1., 1.],\n",
       "       [1., 1., 1., ..., 1., 1., 1.],\n",
       "       [1., 1., 1., ..., 1., 1., 1.]])"
      ]
     },
     "execution_count": 18,
     "metadata": {},
     "output_type": "execute_result"
    }
   ],
   "source": [
    "visible = np.zeros(forest_array.shape)\n",
    "edges = [0, forest_array.shape[0]-1]\n",
    "\n",
    "for i in range(forest_array.shape[0]):\n",
    "    for j in range(forest_array.shape[1]):\n",
    "        if i not in edges and j not in edges:\n",
    "            is_visible = 0\n",
    "            if forest_array[i, j] > max(forest_array[:i, j]) \\\n",
    "            or forest_array[i, j] > max(forest_array[i+1:, j]) \\\n",
    "            or forest_array[i, j] > max(forest_array[i, :j]) \\\n",
    "            or forest_array[i, j] > max(forest_array[i, j+1:]):\n",
    "                is_visible = 1\n",
    "            visible[i][j] = is_visible\n",
    "            \n",
    "for edge in edges:\n",
    "    visible[edge, :] = 1\n",
    "    visible[:, edge] = 1\n",
    "    \n",
    "visible"
   ]
  },
  {
   "cell_type": "code",
   "execution_count": 19,
   "id": "fa8a2173",
   "metadata": {
    "scrolled": true
   },
   "outputs": [
    {
     "data": {
      "text/plain": [
       "1546.0"
      ]
     },
     "execution_count": 19,
     "metadata": {},
     "output_type": "execute_result"
    }
   ],
   "source": [
    "np.sum(visible)"
   ]
  },
  {
   "cell_type": "code",
   "execution_count": 20,
   "id": "82dd67d1",
   "metadata": {},
   "outputs": [
    {
     "data": {
      "text/plain": [
       "array([[  0.,   0.,   0., ...,   0.,   0.,   0.],\n",
       "       [  0.,   4., 154., ...,   2.,   3.,   0.],\n",
       "       [  0.,   2.,   1., ...,  12.,  24.,   0.],\n",
       "       ...,\n",
       "       [  0.,   1.,  12., ...,   2.,  12.,   0.],\n",
       "       [  0.,  12.,   3., ...,   8.,   1.,   0.],\n",
       "       [  0.,   0.,   0., ...,   0.,   0.,   0.]])"
      ]
     },
     "execution_count": 20,
     "metadata": {},
     "output_type": "execute_result"
    }
   ],
   "source": [
    "#test\n",
    "scenic_score = np.zeros(forest_array.shape)\n",
    "edges = [0, forest_array.shape[0]-1]\n",
    "\n",
    "for i in range(forest_array.shape[0]):\n",
    "    for j in range(forest_array.shape[1]):\n",
    "        if i not in edges and j not in edges: #edges ignored as they will always yield 0\n",
    "            tree_height = forest_array[i, j]\n",
    "\n",
    "            if tree_height <= max(forest_array[i+1:, j]):\n",
    "                down = np.argwhere(forest_array[i+1:, j] >= tree_height)[0][0] + 1\n",
    "            else:\n",
    "                down = len(forest_array[i+1:, j])\n",
    "\n",
    "            if tree_height <= max(forest_array[:i, j]):\n",
    "                up = np.argwhere(np.flip(forest_array[:i, j]) >= tree_height)[0][0] + 1\n",
    "            else:\n",
    "                up = len(forest_array[:i, j])\n",
    "            \n",
    "            if tree_height <= max(forest_array[i, :j]):\n",
    "                left = np.argwhere(np.flip(forest_array[i, :j]) >= tree_height)[0][0] + 1\n",
    "            else:\n",
    "                left = len(forest_array[i, :j])\n",
    "            \n",
    "            if tree_height <= max(forest_array[i, j+1:]):\n",
    "                right = np.argwhere(forest_array[i, j+1:] >= tree_height)[0][0] + 1\n",
    "            else:\n",
    "                right = len(forest_array[i, j+1:])\n",
    "            \n",
    "            scenic_score[i][j] = up * down * left * right\n",
    "scenic_score"
   ]
  },
  {
   "cell_type": "code",
   "execution_count": 21,
   "id": "33365172",
   "metadata": {},
   "outputs": [
    {
     "data": {
      "text/plain": [
       "519064.0"
      ]
     },
     "execution_count": 21,
     "metadata": {},
     "output_type": "execute_result"
    }
   ],
   "source": [
    "np.max(scenic_score)"
   ]
  },
  {
   "cell_type": "markdown",
   "id": "b2e6cf63",
   "metadata": {},
   "source": [
    "# TESTS BELOW"
   ]
  },
  {
   "cell_type": "code",
   "execution_count": 22,
   "id": "8ed63dba",
   "metadata": {},
   "outputs": [
    {
     "data": {
      "text/plain": [
       "array([[3, 0, 3, 7, 3],\n",
       "       [2, 5, 5, 1, 2],\n",
       "       [6, 5, 3, 3, 2],\n",
       "       [3, 3, 5, 4, 9],\n",
       "       [3, 5, 3, 9, 0]])"
      ]
     },
     "execution_count": 22,
     "metadata": {},
     "output_type": "execute_result"
    }
   ],
   "source": [
    "#test\n",
    "import numpy as np\n",
    "forest_list = []\n",
    "\n",
    "for line in open(\"Day8_test.txt\", \"r\"):\n",
    "    forest_list.append(list(line.strip(\"\\n\")))\n",
    "\n",
    "forest_array = np.array(forest_list).astype(int)\n",
    "forest_array"
   ]
  },
  {
   "cell_type": "code",
   "execution_count": 23,
   "id": "9aea9e8e",
   "metadata": {},
   "outputs": [
    {
     "data": {
      "text/plain": [
       "array([[1., 1., 1., 1., 1.],\n",
       "       [1., 1., 1., 0., 1.],\n",
       "       [1., 1., 0., 1., 1.],\n",
       "       [1., 0., 1., 0., 1.],\n",
       "       [1., 1., 1., 1., 1.]])"
      ]
     },
     "execution_count": 23,
     "metadata": {},
     "output_type": "execute_result"
    }
   ],
   "source": [
    "#test\n",
    "visible = np.zeros(forest_array.shape)\n",
    "edges = [0, forest_array.shape[0]-1]\n",
    "\n",
    "for i in range(forest_array.shape[0]):\n",
    "    for j in range(forest_array.shape[1]):\n",
    "        if i not in edges and j not in edges:\n",
    "            is_visible = 0\n",
    "            if forest_array[i, j] > max(forest_array[:i, j]) \\\n",
    "            or forest_array[i, j] > max(forest_array[i+1:, j]) \\\n",
    "            or forest_array[i, j] > max(forest_array[i, :j]) \\\n",
    "            or forest_array[i, j] > max(forest_array[i, j+1:]):\n",
    "                is_visible = 1\n",
    "            visible[i][j] = is_visible\n",
    "            \n",
    "for edge in edges:\n",
    "    visible[edge, :] = 1\n",
    "    visible[:, edge] = 1\n",
    "    \n",
    "visible"
   ]
  },
  {
   "cell_type": "code",
   "execution_count": 24,
   "id": "5f651242",
   "metadata": {},
   "outputs": [
    {
     "data": {
      "text/plain": [
       "21.0"
      ]
     },
     "execution_count": 24,
     "metadata": {},
     "output_type": "execute_result"
    }
   ],
   "source": [
    "#test\n",
    "np.sum(visible)"
   ]
  },
  {
   "cell_type": "code",
   "execution_count": 25,
   "id": "8a7f7fb4",
   "metadata": {},
   "outputs": [
    {
     "name": "stdout",
     "output_type": "stream",
     "text": [
      "(1, 1) - [1, 1, 1, 1]\n",
      "(1, 2) - [1, 2, 1, 2]\n",
      "(1, 3) - [1, 1, 1, 1]\n",
      "(2, 1) - [1, 2, 1, 3]\n",
      "(2, 2) - [1, 1, 1, 1]\n",
      "(2, 3) - [2, 1, 1, 1]\n",
      "(3, 1) - [1, 1, 1, 1]\n",
      "(3, 2) - [2, 1, 2, 2]\n",
      "(3, 3) - [3, 1, 1, 1]\n"
     ]
    },
    {
     "data": {
      "text/plain": [
       "array([[0., 0., 0., 0., 0.],\n",
       "       [0., 1., 4., 1., 0.],\n",
       "       [0., 6., 1., 2., 0.],\n",
       "       [0., 1., 8., 3., 0.],\n",
       "       [0., 0., 0., 0., 0.]])"
      ]
     },
     "execution_count": 25,
     "metadata": {},
     "output_type": "execute_result"
    }
   ],
   "source": [
    "#test\n",
    "scenic_score = np.zeros(forest_array.shape)\n",
    "edges = [0, forest_array.shape[0]-1]\n",
    "\n",
    "for i in range(forest_array.shape[0]):\n",
    "    for j in range(forest_array.shape[1]):\n",
    "        if i not in edges and j not in edges: #edges ignored as they will always yield 0\n",
    "            tree_height = forest_array[i, j]\n",
    "\n",
    "            if tree_height <= max(forest_array[i+1:, j]):\n",
    "                down = np.argwhere(forest_array[i+1:, j] >= tree_height)[0][0] + 1\n",
    "            else:\n",
    "                down = len(forest_array[i+1:, j])\n",
    "\n",
    "            if tree_height <= max(forest_array[:i, j]):\n",
    "                up = np.argwhere(np.flip(forest_array[:i, j]) >= tree_height)[0][0] + 1\n",
    "            else:\n",
    "                up = len(forest_array[:i, j])\n",
    "            \n",
    "            if tree_height <= max(forest_array[i, :j]):\n",
    "                left = np.argwhere(np.flip(forest_array[i, :j]) >= tree_height)[0][0] + 1\n",
    "            else:\n",
    "                left = len(forest_array[i, :j])\n",
    "            \n",
    "            if tree_height <= max(forest_array[i, j+1:]):\n",
    "                right = np.argwhere(forest_array[i, j+1:] >= tree_height)[0][0] + 1\n",
    "            else:\n",
    "                right = len(forest_array[i, j+1:])\n",
    "            \n",
    "            scenic_score[i][j] = up * down * left * right\n",
    "            print(f\"{(i, j)} - {[up, down, left, right]}\")\n",
    "scenic_score"
   ]
  },
  {
   "cell_type": "code",
   "execution_count": 26,
   "id": "e025d22d",
   "metadata": {},
   "outputs": [
    {
     "data": {
      "text/plain": [
       "8.0"
      ]
     },
     "execution_count": 26,
     "metadata": {},
     "output_type": "execute_result"
    }
   ],
   "source": [
    "np.max(scenic_score)"
   ]
  },
  {
   "cell_type": "code",
   "execution_count": null,
   "id": "3a63a9a4",
   "metadata": {},
   "outputs": [],
   "source": []
  }
 ],
 "metadata": {
  "kernelspec": {
   "display_name": "Python 3",
   "language": "python",
   "name": "python3"
  },
  "language_info": {
   "codemirror_mode": {
    "name": "ipython",
    "version": 3
   },
   "file_extension": ".py",
   "mimetype": "text/x-python",
   "name": "python",
   "nbconvert_exporter": "python",
   "pygments_lexer": "ipython3",
   "version": "3.8.8"
  }
 },
 "nbformat": 4,
 "nbformat_minor": 5
}
